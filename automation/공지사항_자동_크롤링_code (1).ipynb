{
 "cells": [
  {
   "cell_type": "code",
   "execution_count": 1,
   "metadata": {},
   "outputs": [],
   "source": [
    "import torch\n",
    "from sklearn.feature_extraction.text import CountVectorizer\n",
    "from transformers import BertTokenizer, BertModel\n",
    "from sklearn.feature_extraction.text import TfidfVectorizer"
   ]
  },
  {
   "cell_type": "code",
   "execution_count": 2,
   "metadata": {
    "id": "PkHUghnrcYcu"
   },
   "outputs": [],
   "source": [
    "import requests\n",
    "from bs4 import BeautifulSoup\n",
    "import json\n",
    "import os\n",
    "from datetime import datetime\n",
    "\n",
    "import pandas as pd\n",
    "\n",
    "import re\n",
    "import numpy as np\n",
    "from collections import Counter\n",
    "from konlpy.tag import Komoran\n",
    "from nltk.tokenize import word_tokenize\n",
    "from nltk.corpus import stopwords\n",
    "from nltk.stem import WordNetLemmatizer\n",
    "from nltk import pos_tag\n",
    "\n",
    "from sklearn.linear_model import LogisticRegression\n",
    "\n",
    "import joblib"
   ]
  },
  {
   "cell_type": "markdown",
   "metadata": {
    "id": "2Je-XzHPiSzu"
   },
   "source": [
    "## 1. '오늘' update 된 공지만 크롤링 해오기"
   ]
  },
  {
   "cell_type": "code",
   "execution_count": 3,
   "metadata": {
    "colab": {
     "base_uri": "https://localhost:8080/"
    },
    "id": "mPjvdH-nGJ5B",
    "outputId": "dcfd7d16-7a59-4e80-b1bf-e5ef9b1d9003"
   },
   "outputs": [
    {
     "name": "stdout",
     "output_type": "stream",
     "text": [
      "제목: [해저드리터러시융합교육 연구소] 계약직원 채용 공고, 등록일: 2024-09-26\n",
      "제목: [입학] 2025학년도 전기 공연예술대학원(야간) 신입생 모집(10/10~10/24), 등록일: 2024-09-26\n",
      "제목: [채용]이화여자대학교 학교폭력예방연구소 연구원 모집 공고, 등록일: 2024-09-26\n",
      "제목: [건축팀] 공사로 인한 통행제한 안내 (9/29 일 ~ 9/30 월), 등록일: 2024-09-26\n",
      "제목: 디자인씽킹 워크숍 : 창의적 해결법을 찾아가는 과정별 방법론 특강 (휴학생 가능), 등록일: 2024-09-26\n",
      "제목: [채용] 사범대학 과학교육과 학과사무실 계약직원 채용 공고, 등록일: 2024-09-26\n",
      "제목: [인재] 2024년도 5급(행정) 및 외교관후보자선발시험 3차 대비 프로그램 안내(2차 합격자 대상), 등록일: 2024-09-26\n",
      "제목: [조교모집] 법전원 졸업시험 감독조교 모집 (~10/7), 등록일: 2024-09-26\n"
     ]
    }
   ],
   "source": [
    "# User-Agent 헤더 설정\n",
    "headers = {\"User-Agent\": \"Mozilla/5.0 (Windows NT 10.0; Win64; x64) Chrome/98.0.4758.102\"}\n",
    "\n",
    "def fetch_notices():\n",
    "    notices = []\n",
    "    offset = 0\n",
    "    today = datetime.today().strftime('%Y-%m-%d')\n",
    "    more_pages = True\n",
    "\n",
    "    while more_pages:\n",
    "        # 공지사항 목록 페이지 URL (페이지 넘버링 적용)\n",
    "        url = f\"https://ewha.ac.kr/ewha/news/notice.do?mode=list&&articleLimit=10&article.offset={offset}\"\n",
    "\n",
    "        # 페이지 가져오기\n",
    "        response = requests.get(url, headers=headers)\n",
    "        html = response.text\n",
    "\n",
    "        # BeautifulSoup을 사용하여 HTML 파싱\n",
    "        soup = BeautifulSoup(html, 'html.parser')\n",
    "\n",
    "        # 공지사항 행 추출\n",
    "        page_notices = soup.find_all('tr')\n",
    "\n",
    "        # 고정된 공지사항은 가져오지 말고, 일반 공지사항만 가져옴\n",
    "        for notice in page_notices:\n",
    "            # 고정된 공지는 <tr class=\"b top box\">가 있음\n",
    "            if 'b-top-box' in notice.get('class', []):\n",
    "                continue\n",
    "\n",
    "            # 일반 공지는 클래스가 없는 <tr> 태그를 사용\n",
    "            num_box = notice.find('td', class_='b-num-box')\n",
    "\n",
    "            if num_box:  # 일반 공지일 때만 처리\n",
    "                title = notice.find('td', class_='b-td-left').find('div', class_='b-title-box').find('a').get_text(strip=True)\n",
    "                date = notice.find('span', class_='b-date').get_text(strip=True)\n",
    "                date = date.replace('.', '-')\n",
    "\n",
    "                # 만약 오늘의 날짜가 아니면 더 이상 크롤링하지 않음\n",
    "                if date != today:\n",
    "                    more_pages = False\n",
    "                    break  # 현재 페이지의 나머지도 처리하지 않음\n",
    "\n",
    "                # 오늘 날짜의 공지만 저장\n",
    "                notices.append({'title': title, 'date': date})\n",
    "\n",
    "        if more_pages:\n",
    "            offset += 10  # 오늘 날짜인 공지가 있을 경우에만 다음 페이지로 이동\n",
    "\n",
    "    return notices\n",
    "\n",
    "# 공지사항 가져오기\n",
    "all_notices = fetch_notices()\n",
    "\n",
    "# 가져온 공지사항 출력\n",
    "for notice in all_notices:\n",
    "    print(f\"제목: {notice['title']}, 등록일: {notice['date']}\")\n"
   ]
  },
  {
   "cell_type": "code",
   "execution_count": 4,
   "metadata": {
    "colab": {
     "base_uri": "https://localhost:8080/"
    },
    "id": "NxOSaKKD5Nrq",
    "outputId": "17779490-8d83-4d0f-d00d-46ebbe948533"
   },
   "outputs": [
    {
     "name": "stdout",
     "output_type": "stream",
     "text": [
      "['[해저드리터러시융합교육 연구소] 계약직원 채용 공고', '[입학] 2025학년도 전기 공연예술대학원(야간) 신입생 모집(10/10~10/24)', '[채용]이화여자대학교 학교폭력예방연구소 연구원 모집 공고', '[건축팀] 공사로 인한 통행제한 안내 (9/29 일 ~ 9/30 월)', '디자인씽킹 워크숍 : 창의적 해결법을 찾아가는 과정별 방법론 특강 (휴학생 가능)', '[채용] 사범대학 과학교육과 학과사무실 계약직원 채용 공고', '[인재] 2024년도 5급(행정) 및 외교관후보자선발시험 3차 대비 프로그램 안내(2차 합격자 대상)', '[조교모집] 법전원 졸업시험 감독조교 모집 (~10/7)']\n"
     ]
    }
   ],
   "source": [
    "# 'date' 필드를 제거한 새로운 리스트 생성\n",
    "all_notices= [notice['title'] for notice in all_notices]\n",
    "\n",
    "print(all_notices)"
   ]
  },
  {
   "cell_type": "code",
   "execution_count": 5,
   "metadata": {
    "colab": {
     "base_uri": "https://localhost:8080/",
     "height": 206
    },
    "id": "ICQD2gCp6Cdr",
    "outputId": "38feb734-9d08-42b3-beda-27346dd88e0c"
   },
   "outputs": [
    {
     "data": {
      "text/html": [
       "<div>\n",
       "<style scoped>\n",
       "    .dataframe tbody tr th:only-of-type {\n",
       "        vertical-align: middle;\n",
       "    }\n",
       "\n",
       "    .dataframe tbody tr th {\n",
       "        vertical-align: top;\n",
       "    }\n",
       "\n",
       "    .dataframe thead th {\n",
       "        text-align: right;\n",
       "    }\n",
       "</style>\n",
       "<table border=\"1\" class=\"dataframe\">\n",
       "  <thead>\n",
       "    <tr style=\"text-align: right;\">\n",
       "      <th></th>\n",
       "      <th>title</th>\n",
       "    </tr>\n",
       "  </thead>\n",
       "  <tbody>\n",
       "    <tr>\n",
       "      <th>0</th>\n",
       "      <td>[해저드리터러시융합교육 연구소] 계약직원 채용 공고</td>\n",
       "    </tr>\n",
       "    <tr>\n",
       "      <th>1</th>\n",
       "      <td>[입학] 2025학년도 전기 공연예술대학원(야간) 신입생 모집(10/10~10/24)</td>\n",
       "    </tr>\n",
       "    <tr>\n",
       "      <th>2</th>\n",
       "      <td>[채용]이화여자대학교 학교폭력예방연구소 연구원 모집 공고</td>\n",
       "    </tr>\n",
       "    <tr>\n",
       "      <th>3</th>\n",
       "      <td>[건축팀] 공사로 인한 통행제한 안내 (9/29 일 ~ 9/30 월)</td>\n",
       "    </tr>\n",
       "    <tr>\n",
       "      <th>4</th>\n",
       "      <td>디자인씽킹 워크숍 : 창의적 해결법을 찾아가는 과정별 방법론 특강 (휴학생 가능)</td>\n",
       "    </tr>\n",
       "  </tbody>\n",
       "</table>\n",
       "</div>"
      ],
      "text/plain": [
       "                                             title\n",
       "0                     [해저드리터러시융합교육 연구소] 계약직원 채용 공고\n",
       "1  [입학] 2025학년도 전기 공연예술대학원(야간) 신입생 모집(10/10~10/24)\n",
       "2                  [채용]이화여자대학교 학교폭력예방연구소 연구원 모집 공고\n",
       "3           [건축팀] 공사로 인한 통행제한 안내 (9/29 일 ~ 9/30 월)\n",
       "4    디자인씽킹 워크숍 : 창의적 해결법을 찾아가는 과정별 방법론 특강 (휴학생 가능)"
      ]
     },
     "execution_count": 5,
     "metadata": {},
     "output_type": "execute_result"
    }
   ],
   "source": [
    "# 결과를 pandas 데이터프레임으로 변환\n",
    "df = pd.DataFrame(all_notices, columns=['title'])\n",
    "df.head()"
   ]
  },
  {
   "cell_type": "code",
   "execution_count": 6,
   "metadata": {},
   "outputs": [],
   "source": [
    "df1 = df.copy()"
   ]
  },
  {
   "cell_type": "markdown",
   "metadata": {
    "id": "aUCa5EwsG1bg"
   },
   "source": [
    "## 2. 전처리 실행"
   ]
  },
  {
   "cell_type": "code",
   "execution_count": 7,
   "metadata": {},
   "outputs": [],
   "source": [
    "#영문자와 한글만 title에 남기기\n",
    "\n",
    "df1['title'] = df1['title'].str.replace('[^a-z|A-Z|ㄱ-ㅎ|가-힣|]', ' ', regex = True)\n",
    "\n",
    "# lambda 함수를 사용해서 text의 탐지된 x를 lowercase로 바꿔준다.\n",
    "def lowercase(text):\n",
    "    return re.sub(r'[a-zA-Z]', lambda x: x.group().lower(), text)\n",
    "\n",
    "df1['title'] = df1['title'].apply(lowercase)\n",
    "\n",
    "# 영어와 한국어가 섞여 있으므로 구분할 수 있도록\n",
    "eng = re.compile(r'[a-zA-Z]')\n",
    "    \n",
    "#불용어 사전\n",
    "stop_words = ['의','가','이','은','들','는','걍','과','들','과','으로','도','을',\n",
    "              '를','으로','자','에','와','한','하다','에서','에게', '및', '연도', '년',\n",
    "              '년도', '학기', 'ㄴ' '학년도', '회', '상반기', '하반기', '년대', '학년',\n",
    "              '오후', '오전', '오늘', '내일', '회차', '개월', '주년', '종료', 'th', 'st', 'nd', \"'s\", '접수', '기한', '연장',\n",
    "              '월', '어', '다', '까지', '제', '등', '등등', '몇', '면', '각', '각각', '마감','공통', '만료',\n",
    "              '여', '대', '백양']\n",
    "\n",
    "# 형태소 분석 및 불용어 제거 함수\n",
    "\n",
    "def preprocess(text):\n",
    "    komoran = Komoran(userdic = '/content/drive/MyDrive/유런 24 여름 방학 프로젝트/eda&전처리/user_dictionary.txt')\n",
    "    lemmatizer = WordNetLemmatizer()\n",
    "\n",
    "    token_list = []\n",
    "\n",
    "    for sentence in text :\n",
    "       sentence = sentence.strip()\n",
    "       if not sentence:\n",
    "           token_list.append('')\n",
    "           continue\n",
    "\n",
    "       words = sentence.split()\n",
    "       sentense_list = []\n",
    "\n",
    "       for word in words :\n",
    "          if eng.match(word) :\n",
    "              tokens_word = word_tokenize(word)\n",
    "              tokens_pos = pos_tag(tokens_word)\n",
    "              for w, pos in tokens_pos:\n",
    "                  if pos.startswith('N'):\n",
    "                      lemma = lemmatizer.lemmatize(w, pos='n')\n",
    "                  elif pos.startswith('V'):\n",
    "                      lemma = lemmatizer.lemmatize(w, pos='v')\n",
    "                  elif pos.startswith('J'):\n",
    "                      lemma = lemmatizer.lemmatize(w, pos='a')\n",
    "                  elif pos.startswith('R'):\n",
    "                      lemma = lemmatizer.lemmatize(w, pos='r')\n",
    "                  else :\n",
    "                      continue\n",
    "                  sentense_list.append(lemma)\n",
    "\n",
    "          else :\n",
    "              nouns = komoran.nouns(word)\n",
    "              sentense_list.extend(nouns)\n",
    "       token = [t for t in sentense_list if t not in stop_words]\n",
    "       token_list.append(' '.join(token))\n",
    "    return token_list\n",
    "\n",
    "df1['processed_title'] = preprocess(df1['title'])\n",
    "\n",
    "# 한 글자 단어를 제거하되 \"팀\"과 \"랩\" 단어는 유지하는 함수\n",
    "\n",
    "def remove_single_characters(text):\n",
    "    words = text.split()\n",
    "    filtered_words = [word for word in words if len(word) > 1 or word in ['팀', '랩']]\n",
    "    return ' '.join(filtered_words)\n",
    "\n",
    "df1['processed_title'] = df1['processed_title'].apply(remove_single_characters)\n",
    "\n"
   ]
  },
  {
   "cell_type": "code",
   "execution_count": 8,
   "metadata": {
    "scrolled": true
   },
   "outputs": [
    {
     "data": {
      "text/html": [
       "<div>\n",
       "<style scoped>\n",
       "    .dataframe tbody tr th:only-of-type {\n",
       "        vertical-align: middle;\n",
       "    }\n",
       "\n",
       "    .dataframe tbody tr th {\n",
       "        vertical-align: top;\n",
       "    }\n",
       "\n",
       "    .dataframe thead th {\n",
       "        text-align: right;\n",
       "    }\n",
       "</style>\n",
       "<table border=\"1\" class=\"dataframe\">\n",
       "  <thead>\n",
       "    <tr style=\"text-align: right;\">\n",
       "      <th></th>\n",
       "      <th>title</th>\n",
       "    </tr>\n",
       "  </thead>\n",
       "  <tbody>\n",
       "    <tr>\n",
       "      <th>0</th>\n",
       "      <td>[해저드리터러시융합교육 연구소] 계약직원 채용 공고</td>\n",
       "    </tr>\n",
       "    <tr>\n",
       "      <th>1</th>\n",
       "      <td>[입학] 2025학년도 전기 공연예술대학원(야간) 신입생 모집(10/10~10/24)</td>\n",
       "    </tr>\n",
       "    <tr>\n",
       "      <th>2</th>\n",
       "      <td>[채용]이화여자대학교 학교폭력예방연구소 연구원 모집 공고</td>\n",
       "    </tr>\n",
       "    <tr>\n",
       "      <th>3</th>\n",
       "      <td>[건축팀] 공사로 인한 통행제한 안내 (9/29 일 ~ 9/30 월)</td>\n",
       "    </tr>\n",
       "    <tr>\n",
       "      <th>4</th>\n",
       "      <td>디자인씽킹 워크숍 : 창의적 해결법을 찾아가는 과정별 방법론 특강 (휴학생 가능)</td>\n",
       "    </tr>\n",
       "    <tr>\n",
       "      <th>5</th>\n",
       "      <td>[채용] 사범대학 과학교육과 학과사무실 계약직원 채용 공고</td>\n",
       "    </tr>\n",
       "    <tr>\n",
       "      <th>6</th>\n",
       "      <td>[인재] 2024년도 5급(행정) 및 외교관후보자선발시험 3차 대비 프로그램 안내(...</td>\n",
       "    </tr>\n",
       "    <tr>\n",
       "      <th>7</th>\n",
       "      <td>[조교모집] 법전원 졸업시험 감독조교 모집 (~10/7)</td>\n",
       "    </tr>\n",
       "  </tbody>\n",
       "</table>\n",
       "</div>"
      ],
      "text/plain": [
       "                                               title\n",
       "0                       [해저드리터러시융합교육 연구소] 계약직원 채용 공고\n",
       "1    [입학] 2025학년도 전기 공연예술대학원(야간) 신입생 모집(10/10~10/24)\n",
       "2                    [채용]이화여자대학교 학교폭력예방연구소 연구원 모집 공고\n",
       "3             [건축팀] 공사로 인한 통행제한 안내 (9/29 일 ~ 9/30 월)\n",
       "4      디자인씽킹 워크숍 : 창의적 해결법을 찾아가는 과정별 방법론 특강 (휴학생 가능)\n",
       "5                   [채용] 사범대학 과학교육과 학과사무실 계약직원 채용 공고\n",
       "6  [인재] 2024년도 5급(행정) 및 외교관후보자선발시험 3차 대비 프로그램 안내(...\n",
       "7                    [조교모집] 법전원 졸업시험 감독조교 모집 (~10/7)"
      ]
     },
     "execution_count": 8,
     "metadata": {},
     "output_type": "execute_result"
    }
   ],
   "source": [
    "df"
   ]
  },
  {
   "cell_type": "code",
   "execution_count": 9,
   "metadata": {},
   "outputs": [
    {
     "data": {
      "text/html": [
       "<div>\n",
       "<style scoped>\n",
       "    .dataframe tbody tr th:only-of-type {\n",
       "        vertical-align: middle;\n",
       "    }\n",
       "\n",
       "    .dataframe tbody tr th {\n",
       "        vertical-align: top;\n",
       "    }\n",
       "\n",
       "    .dataframe thead th {\n",
       "        text-align: right;\n",
       "    }\n",
       "</style>\n",
       "<table border=\"1\" class=\"dataframe\">\n",
       "  <thead>\n",
       "    <tr style=\"text-align: right;\">\n",
       "      <th></th>\n",
       "      <th>title</th>\n",
       "      <th>processed_title</th>\n",
       "    </tr>\n",
       "  </thead>\n",
       "  <tbody>\n",
       "    <tr>\n",
       "      <th>0</th>\n",
       "      <td>해저드리터러시융합교육 연구소  계약직원 채용 공고</td>\n",
       "      <td>해저드 리터 러시 융합 교육 연구소 계약 직원 채용 공고</td>\n",
       "    </tr>\n",
       "    <tr>\n",
       "      <th>1</th>\n",
       "      <td>입학      학년도 전기 공연예술대학원 야간  신입생 모집</td>\n",
       "      <td>입학 전기 공연 예술 대학원 야간 신입생 모집</td>\n",
       "    </tr>\n",
       "    <tr>\n",
       "      <th>2</th>\n",
       "      <td>채용 이화여자대학교 학교폭력예방연구소 연구원 모집 공고</td>\n",
       "      <td>채용 이화여자대학교 학교 폭력 예방 연구소 연구원 모집 공고</td>\n",
       "    </tr>\n",
       "    <tr>\n",
       "      <th>3</th>\n",
       "      <td>건축팀  공사로 인한 통행제한 안내       일        월</td>\n",
       "      <td>건축 팀 공사 통행 제한 안내</td>\n",
       "    </tr>\n",
       "    <tr>\n",
       "      <th>4</th>\n",
       "      <td>디자인씽킹 워크숍   창의적 해결법을 찾아가는 과정별 방법론 특강  휴학생 가능</td>\n",
       "      <td>워크숍 창의 해결 과정 방법론 특강 휴학</td>\n",
       "    </tr>\n",
       "    <tr>\n",
       "      <th>5</th>\n",
       "      <td>채용  사범대학 과학교육과 학과사무실 계약직원 채용 공고</td>\n",
       "      <td>채용 사범대학 과학 교육 학과 사무실 계약 직원 채용 공고</td>\n",
       "    </tr>\n",
       "    <tr>\n",
       "      <th>6</th>\n",
       "      <td>인재      년도  급 행정  및 외교관후보자선발시험  차 대비 프로그램 안내 ...</td>\n",
       "      <td>인재 행정 외교관 후보자 선발 시험 대비 프로그램 안내 합격자 대상</td>\n",
       "    </tr>\n",
       "    <tr>\n",
       "      <th>7</th>\n",
       "      <td>조교모집  법전원 졸업시험 감독조교 모집</td>\n",
       "      <td>조교 모집 전원 졸업 시험 감독 조교 모집</td>\n",
       "    </tr>\n",
       "  </tbody>\n",
       "</table>\n",
       "</div>"
      ],
      "text/plain": [
       "                                               title  \\\n",
       "0                        해저드리터러시융합교육 연구소  계약직원 채용 공고   \n",
       "1     입학      학년도 전기 공연예술대학원 야간  신입생 모집                \n",
       "2                     채용 이화여자대학교 학교폭력예방연구소 연구원 모집 공고   \n",
       "3              건축팀  공사로 인한 통행제한 안내       일        월    \n",
       "4      디자인씽킹 워크숍   창의적 해결법을 찾아가는 과정별 방법론 특강  휴학생 가능    \n",
       "5                    채용  사범대학 과학교육과 학과사무실 계약직원 채용 공고   \n",
       "6   인재      년도  급 행정  및 외교관후보자선발시험  차 대비 프로그램 안내 ...   \n",
       "7                     조교모집  법전원 졸업시험 감독조교 모집           \n",
       "\n",
       "                         processed_title  \n",
       "0        해저드 리터 러시 융합 교육 연구소 계약 직원 채용 공고  \n",
       "1              입학 전기 공연 예술 대학원 야간 신입생 모집  \n",
       "2      채용 이화여자대학교 학교 폭력 예방 연구소 연구원 모집 공고  \n",
       "3                       건축 팀 공사 통행 제한 안내  \n",
       "4                 워크숍 창의 해결 과정 방법론 특강 휴학  \n",
       "5       채용 사범대학 과학 교육 학과 사무실 계약 직원 채용 공고  \n",
       "6  인재 행정 외교관 후보자 선발 시험 대비 프로그램 안내 합격자 대상  \n",
       "7                조교 모집 전원 졸업 시험 감독 조교 모집  "
      ]
     },
     "execution_count": 9,
     "metadata": {},
     "output_type": "execute_result"
    }
   ],
   "source": [
    "df1"
   ]
  },
  {
   "cell_type": "markdown",
   "metadata": {},
   "source": [
    "## 3. NLP 모델로 커리어 관련 공지 분류하기"
   ]
  },
  {
   "cell_type": "code",
   "execution_count": 10,
   "metadata": {
    "scrolled": true
   },
   "outputs": [
    {
     "name": "stdout",
     "output_type": "stream",
     "text": [
      "['abeek' 'abeek 연구원' 'abeek 자체' ... '희망 청년' '희망자' '희망자 모집']\n",
      "[[0 0 0 ... 0 0 0]\n",
      " [0 0 0 ... 0 0 0]\n",
      " [0 0 0 ... 0 0 0]\n",
      " ...\n",
      " [0 0 0 ... 0 0 0]\n",
      " [0 0 0 ... 0 0 0]\n",
      " [0 0 0 ... 0 0 0]]\n"
     ]
    },
    {
     "name": "stderr",
     "output_type": "stream",
     "text": [
      "C:\\Users\\Flex\\anaconda3\\lib\\site-packages\\sklearn\\base.py:329: UserWarning: Trying to unpickle estimator CountVectorizer from version 1.5.2 when using version 1.0.2. This might lead to breaking code or invalid results. Use at your own risk. For more info please refer to:\n",
      "https://scikit-learn.org/stable/modules/model_persistence.html#security-maintainability-limitations\n",
      "  warnings.warn(\n"
     ]
    }
   ],
   "source": [
    "# N-그램 벡터화 (1-그램, 2-그램)\n",
    "vectorizer = joblib.load(\"C:/Users/Flex/Documents/Euron 6th/ngram_vectorizer.pkl\")\n",
    "X_ngrams = vectorizer.transform(df1['processed_title']).toarray()\n",
    "\n",
    "print(vectorizer.get_feature_names_out())\n",
    "print(X_ngrams)"
   ]
  },
  {
   "cell_type": "code",
   "execution_count": 11,
   "metadata": {},
   "outputs": [
    {
     "name": "stderr",
     "output_type": "stream",
     "text": [
      "The tokenizer class you load from this checkpoint is not the same type as the class this function is called from. It may result in unexpected tokenization. \n",
      "The tokenizer class you load from this checkpoint is 'KoBertTokenizer'. \n",
      "The class this function is called from is 'BertTokenizer'.\n",
      "C:\\Users\\Flex\\anaconda3\\lib\\site-packages\\transformers\\tokenization_utils_base.py:1601: FutureWarning: `clean_up_tokenization_spaces` was not set. It will be set to `True` by default. This behavior will be depracted in transformers v4.45, and will be then set to `False` by default. For more details check this issue: https://github.com/huggingface/transformers/issues/31884\n",
      "  warnings.warn(\n"
     ]
    },
    {
     "data": {
      "text/plain": [
       "BertModel(\n",
       "  (embeddings): BertEmbeddings(\n",
       "    (word_embeddings): Embedding(8002, 768, padding_idx=1)\n",
       "    (position_embeddings): Embedding(512, 768)\n",
       "    (token_type_embeddings): Embedding(2, 768)\n",
       "    (LayerNorm): LayerNorm((768,), eps=1e-12, elementwise_affine=True)\n",
       "    (dropout): Dropout(p=0.1, inplace=False)\n",
       "  )\n",
       "  (encoder): BertEncoder(\n",
       "    (layer): ModuleList(\n",
       "      (0-11): 12 x BertLayer(\n",
       "        (attention): BertAttention(\n",
       "          (self): BertSdpaSelfAttention(\n",
       "            (query): Linear(in_features=768, out_features=768, bias=True)\n",
       "            (key): Linear(in_features=768, out_features=768, bias=True)\n",
       "            (value): Linear(in_features=768, out_features=768, bias=True)\n",
       "            (dropout): Dropout(p=0.1, inplace=False)\n",
       "          )\n",
       "          (output): BertSelfOutput(\n",
       "            (dense): Linear(in_features=768, out_features=768, bias=True)\n",
       "            (LayerNorm): LayerNorm((768,), eps=1e-12, elementwise_affine=True)\n",
       "            (dropout): Dropout(p=0.1, inplace=False)\n",
       "          )\n",
       "        )\n",
       "        (intermediate): BertIntermediate(\n",
       "          (dense): Linear(in_features=768, out_features=3072, bias=True)\n",
       "          (intermediate_act_fn): GELUActivation()\n",
       "        )\n",
       "        (output): BertOutput(\n",
       "          (dense): Linear(in_features=3072, out_features=768, bias=True)\n",
       "          (LayerNorm): LayerNorm((768,), eps=1e-12, elementwise_affine=True)\n",
       "          (dropout): Dropout(p=0.1, inplace=False)\n",
       "        )\n",
       "      )\n",
       "    )\n",
       "  )\n",
       "  (pooler): BertPooler(\n",
       "    (dense): Linear(in_features=768, out_features=768, bias=True)\n",
       "    (activation): Tanh()\n",
       "  )\n",
       ")"
      ]
     },
     "execution_count": 11,
     "metadata": {},
     "output_type": "execute_result"
    }
   ],
   "source": [
    "# KoBERT 모델과 토크나이저 로드\n",
    "tokenizer = BertTokenizer.from_pretrained('monologg/kobert')\n",
    "model = BertModel.from_pretrained('monologg/kobert')\n",
    "\n",
    "# GPU 설정\n",
    "device = torch.device('cuda' if torch.cuda.is_available() else 'cpu')\n",
    "model.to(device)\n"
   ]
  },
  {
   "cell_type": "code",
   "execution_count": 12,
   "metadata": {},
   "outputs": [],
   "source": [
    "# 문장 임베딩 추출\n",
    "def get_sentence_embedding(sentence):\n",
    "    inputs = tokenizer(sentence, return_tensors='pt', truncation=True, padding=True, max_length=128)\n",
    "    inputs = {key: value.to(device) for key, value in inputs.items()}  # 데이터를 GPU로 이동\n",
    "    with torch.no_grad():\n",
    "        outputs = model(**inputs)\n",
    "    return outputs.last_hidden_state.mean(dim=1).squeeze().cpu().numpy()  # 결과를 CPU로 다시 이동"
   ]
  },
  {
   "cell_type": "code",
   "execution_count": 13,
   "metadata": {},
   "outputs": [],
   "source": [
    "# 모든 문장에 대해 임베딩 추출\n",
    "embeddings = [get_sentence_embedding(sentence) for sentence in df1['processed_title']]\n",
    "X_embeddings = pd.DataFrame(embeddings)"
   ]
  },
  {
   "cell_type": "code",
   "execution_count": 14,
   "metadata": {},
   "outputs": [],
   "source": [
    "X_combined = np.hstack((X_ngrams, X_embeddings))"
   ]
  },
  {
   "cell_type": "code",
   "execution_count": 15,
   "metadata": {
    "scrolled": true
   },
   "outputs": [
    {
     "name": "stderr",
     "output_type": "stream",
     "text": [
      "C:\\Users\\Flex\\anaconda3\\lib\\site-packages\\sklearn\\base.py:329: UserWarning: Trying to unpickle estimator LogisticRegression from version 1.5.2 when using version 1.0.2. This might lead to breaking code or invalid results. Use at your own risk. For more info please refer to:\n",
      "https://scikit-learn.org/stable/modules/model_persistence.html#security-maintainability-limitations\n",
      "  warnings.warn(\n"
     ]
    }
   ],
   "source": [
    "# ML model load\n",
    "LR = joblib.load(\"C:/Users/Flex/Documents/Euron 6th/logistic_regression_model.pkl\")"
   ]
  },
  {
   "cell_type": "code",
   "execution_count": 16,
   "metadata": {},
   "outputs": [
    {
     "data": {
      "text/plain": [
       "array([1, 0, 1, 0, 1, 1, 1, 0], dtype=int64)"
      ]
     },
     "execution_count": 16,
     "metadata": {},
     "output_type": "execute_result"
    }
   ],
   "source": [
    "y_pred = LR.predict(X_combined)\n",
    "\n",
    "y_pred"
   ]
  },
  {
   "cell_type": "code",
   "execution_count": 17,
   "metadata": {
    "scrolled": true
   },
   "outputs": [
    {
     "data": {
      "text/html": [
       "<div>\n",
       "<style scoped>\n",
       "    .dataframe tbody tr th:only-of-type {\n",
       "        vertical-align: middle;\n",
       "    }\n",
       "\n",
       "    .dataframe tbody tr th {\n",
       "        vertical-align: top;\n",
       "    }\n",
       "\n",
       "    .dataframe thead th {\n",
       "        text-align: right;\n",
       "    }\n",
       "</style>\n",
       "<table border=\"1\" class=\"dataframe\">\n",
       "  <thead>\n",
       "    <tr style=\"text-align: right;\">\n",
       "      <th></th>\n",
       "      <th>title</th>\n",
       "      <th>processed_title</th>\n",
       "      <th>label</th>\n",
       "    </tr>\n",
       "  </thead>\n",
       "  <tbody>\n",
       "    <tr>\n",
       "      <th>0</th>\n",
       "      <td>해저드리터러시융합교육 연구소  계약직원 채용 공고</td>\n",
       "      <td>해저드 리터 러시 융합 교육 연구소 계약 직원 채용 공고</td>\n",
       "      <td>1</td>\n",
       "    </tr>\n",
       "    <tr>\n",
       "      <th>1</th>\n",
       "      <td>입학      학년도 전기 공연예술대학원 야간  신입생 모집</td>\n",
       "      <td>입학 전기 공연 예술 대학원 야간 신입생 모집</td>\n",
       "      <td>0</td>\n",
       "    </tr>\n",
       "    <tr>\n",
       "      <th>2</th>\n",
       "      <td>채용 이화여자대학교 학교폭력예방연구소 연구원 모집 공고</td>\n",
       "      <td>채용 이화여자대학교 학교 폭력 예방 연구소 연구원 모집 공고</td>\n",
       "      <td>1</td>\n",
       "    </tr>\n",
       "    <tr>\n",
       "      <th>3</th>\n",
       "      <td>건축팀  공사로 인한 통행제한 안내       일        월</td>\n",
       "      <td>건축 팀 공사 통행 제한 안내</td>\n",
       "      <td>0</td>\n",
       "    </tr>\n",
       "    <tr>\n",
       "      <th>4</th>\n",
       "      <td>디자인씽킹 워크숍   창의적 해결법을 찾아가는 과정별 방법론 특강  휴학생 가능</td>\n",
       "      <td>워크숍 창의 해결 과정 방법론 특강 휴학</td>\n",
       "      <td>1</td>\n",
       "    </tr>\n",
       "    <tr>\n",
       "      <th>5</th>\n",
       "      <td>채용  사범대학 과학교육과 학과사무실 계약직원 채용 공고</td>\n",
       "      <td>채용 사범대학 과학 교육 학과 사무실 계약 직원 채용 공고</td>\n",
       "      <td>1</td>\n",
       "    </tr>\n",
       "    <tr>\n",
       "      <th>6</th>\n",
       "      <td>인재      년도  급 행정  및 외교관후보자선발시험  차 대비 프로그램 안내 ...</td>\n",
       "      <td>인재 행정 외교관 후보자 선발 시험 대비 프로그램 안내 합격자 대상</td>\n",
       "      <td>1</td>\n",
       "    </tr>\n",
       "    <tr>\n",
       "      <th>7</th>\n",
       "      <td>조교모집  법전원 졸업시험 감독조교 모집</td>\n",
       "      <td>조교 모집 전원 졸업 시험 감독 조교 모집</td>\n",
       "      <td>0</td>\n",
       "    </tr>\n",
       "  </tbody>\n",
       "</table>\n",
       "</div>"
      ],
      "text/plain": [
       "                                               title  \\\n",
       "0                        해저드리터러시융합교육 연구소  계약직원 채용 공고   \n",
       "1     입학      학년도 전기 공연예술대학원 야간  신입생 모집                \n",
       "2                     채용 이화여자대학교 학교폭력예방연구소 연구원 모집 공고   \n",
       "3              건축팀  공사로 인한 통행제한 안내       일        월    \n",
       "4      디자인씽킹 워크숍   창의적 해결법을 찾아가는 과정별 방법론 특강  휴학생 가능    \n",
       "5                    채용  사범대학 과학교육과 학과사무실 계약직원 채용 공고   \n",
       "6   인재      년도  급 행정  및 외교관후보자선발시험  차 대비 프로그램 안내 ...   \n",
       "7                     조교모집  법전원 졸업시험 감독조교 모집           \n",
       "\n",
       "                         processed_title  label  \n",
       "0        해저드 리터 러시 융합 교육 연구소 계약 직원 채용 공고      1  \n",
       "1              입학 전기 공연 예술 대학원 야간 신입생 모집      0  \n",
       "2      채용 이화여자대학교 학교 폭력 예방 연구소 연구원 모집 공고      1  \n",
       "3                       건축 팀 공사 통행 제한 안내      0  \n",
       "4                 워크숍 창의 해결 과정 방법론 특강 휴학      1  \n",
       "5       채용 사범대학 과학 교육 학과 사무실 계약 직원 채용 공고      1  \n",
       "6  인재 행정 외교관 후보자 선발 시험 대비 프로그램 안내 합격자 대상      1  \n",
       "7                조교 모집 전원 졸업 시험 감독 조교 모집      0  "
      ]
     },
     "execution_count": 17,
     "metadata": {},
     "output_type": "execute_result"
    }
   ],
   "source": [
    "df1['label'] = y_pred\n",
    "\n",
    "df1"
   ]
  },
  {
   "cell_type": "code",
   "execution_count": 34,
   "metadata": {
    "scrolled": false
   },
   "outputs": [],
   "source": [
    "# 'label'이 1인 행들의 인덱스 추출\n",
    "indices = df1[df1['label'] == 1].index\n",
    "\n",
    "# 해당 인덱스의 'title' 열 값 가져오기\n",
    "career_notices = df.loc[indices, 'title']\n",
    "\n",
    "def organize_title(notices):\n",
    "    if notices is None or len(notices) == 0:  \n",
    "        return \"오늘은 커리어 관련 공지사항이 없습니다.\"\n",
    "    \n",
    "    # 공지사항이 있을 때 문자열 생성\n",
    "    organized_list = '\\n'.join([f\"🔸 {title}\" for title in notices])\n",
    "    return organized_list"
   ]
  },
  {
   "cell_type": "markdown",
   "metadata": {
    "id": "gsQYqiaYHFuA"
   },
   "source": [
    "## 4. 이메일로 알림 보내기"
   ]
  },
  {
   "cell_type": "code",
   "execution_count": 46,
   "metadata": {},
   "outputs": [],
   "source": [
    "import os\n",
    "\n",
    "# Jupyter Notebook에서 환경 변수 설정\n",
    "os.environ['EMAIL_PASSWORD'] = 'ryot gxkt zhyb hbwn'"
   ]
  },
  {
   "cell_type": "code",
   "execution_count": 48,
   "metadata": {
    "id": "R_R68UbCHKA6"
   },
   "outputs": [
    {
     "name": "stdout",
     "output_type": "stream",
     "text": [
      "1\n",
      "2\n",
      "3\n",
      "이메일 전송 성공!\n"
     ]
    }
   ],
   "source": [
    "import os\n",
    "import smtplib\n",
    "from email.mime.text import MIMEText\n",
    "\n",
    "def send_email(subject, body, to_email):\n",
    "    from_email = \"eunbin3660@gmail.com\"\n",
    "    password = os.getenv('EMAIL_PASSWORD')  # 앱 비밀번호를 환경 변수로 처리\n",
    "\n",
    "    # 이메일 메시지 생성\n",
    "    msg = MIMEText(body)\n",
    "    msg['Subject'] = subject\n",
    "    msg['From'] = from_email\n",
    "    msg['To'] = to_email\n",
    "\n",
    "    try:\n",
    "        # Gmail SMTP 서버에 연결\n",
    "        server = smtplib.SMTP_SSL('smtp.gmail.com', 465)\n",
    "        server.login(from_email, password)\n",
    "        server.sendmail(from_email, to_email, msg.as_string())\n",
    "        server.quit()\n",
    "        print(\"이메일 전송 성공!\")\n",
    "    except smtplib.SMTPAuthenticationError as e:\n",
    "        print(f\"SMTP 인증 오류: {e}\")\n",
    "    except Exception as e:\n",
    "        print(f\"이메일 전송 중 오류 발생: {e}\")\n",
    "\n",
    "# 커리어 관련 공지가 있다면 이메일로 보내기\n",
    "if not career_notices.empty:\n",
    "    subject = \"오늘의 커리어 관련 공지사항\"\n",
    "    body = organize_title(career_notices)\n",
    "    send_email(subject, body, \"eunbin3660@gmail.com\")\n"
   ]
  },
  {
   "cell_type": "code",
   "execution_count": 45,
   "metadata": {
    "id": "3g-tobM8HJ8Y"
   },
   "outputs": [
    {
     "name": "stdout",
     "output_type": "stream",
     "text": [
      "None\n"
     ]
    }
   ],
   "source": [
    "print(os.getenv('EMAIL_PASSWORD'))"
   ]
  }
 ],
 "metadata": {
  "colab": {
   "provenance": []
  },
  "kernelspec": {
   "display_name": "Python 3 (ipykernel)",
   "language": "python",
   "name": "python3"
  },
  "language_info": {
   "codemirror_mode": {
    "name": "ipython",
    "version": 3
   },
   "file_extension": ".py",
   "mimetype": "text/x-python",
   "name": "python",
   "nbconvert_exporter": "python",
   "pygments_lexer": "ipython3",
   "version": "3.9.12"
  }
 },
 "nbformat": 4,
 "nbformat_minor": 1
}
